{
  "cells": [
    {
      "cell_type": "markdown",
      "metadata": {
        "colab_type": "text",
        "id": "view-in-github"
      },
      "source": [
        "<a href=\"https://colab.research.google.com/github/jsilveira1409/CIVIL-459-Animal-Pose-Estimation/blob/sda/openpifpaf.ipynb\" target=\"_parent\"><img src=\"https://colab.research.google.com/assets/colab-badge.svg\" alt=\"Open In Colab\"/></a>"
      ]
    },
    {
      "cell_type": "code",
      "execution_count": 1,
      "metadata": {
        "colab": {
          "base_uri": "https://localhost:8080/"
        },
        "id": "4C6Q3KObSkLC",
        "outputId": "7533aca0-4895-437a-a9cf-41c2e3f53c25"
      },
      "outputs": [
        {
          "name": "stderr",
          "output_type": "stream",
          "text": [
            "\n",
            "[notice] A new release of pip is available: 23.0.1 -> 23.1\n",
            "[notice] To update, run: C:\\Users\\osour\\AppData\\Local\\Microsoft\\WindowsApps\\PythonSoftwareFoundation.Python.3.10_qbz5n2kfra8p0\\python.exe -m pip install --upgrade pip\n"
          ]
        },
        {
          "name": "stdout",
          "output_type": "stream",
          "text": [
            "Requirement already satisfied: openpifpaf in c:\\users\\osour\\appdata\\local\\packages\\pythonsoftwarefoundation.python.3.10_qbz5n2kfra8p0\\localcache\\local-packages\\python310\\site-packages (0.13.11)\n",
            "Requirement already satisfied: python-json-logger in c:\\users\\osour\\appdata\\local\\packages\\pythonsoftwarefoundation.python.3.10_qbz5n2kfra8p0\\localcache\\local-packages\\python310\\site-packages (from openpifpaf) (2.0.7)\n",
            "Requirement already satisfied: pysparkling in c:\\users\\osour\\appdata\\local\\packages\\pythonsoftwarefoundation.python.3.10_qbz5n2kfra8p0\\localcache\\local-packages\\python310\\site-packages (from openpifpaf) (0.6.2)\n",
            "Requirement already satisfied: numpy>=1.16 in c:\\users\\osour\\appdata\\local\\packages\\pythonsoftwarefoundation.python.3.10_qbz5n2kfra8p0\\localcache\\local-packages\\python310\\site-packages (from openpifpaf) (1.23.3)\n",
            "Requirement already satisfied: importlib-metadata!=3.8.0 in c:\\users\\osour\\appdata\\local\\packages\\pythonsoftwarefoundation.python.3.10_qbz5n2kfra8p0\\localcache\\local-packages\\python310\\site-packages (from openpifpaf) (6.5.1)\n",
            "Requirement already satisfied: torchvision==0.14.1 in c:\\users\\osour\\appdata\\local\\packages\\pythonsoftwarefoundation.python.3.10_qbz5n2kfra8p0\\localcache\\local-packages\\python310\\site-packages (from openpifpaf) (0.14.1)\n",
            "Requirement already satisfied: pillow!=8.3.0 in c:\\users\\osour\\appdata\\local\\packages\\pythonsoftwarefoundation.python.3.10_qbz5n2kfra8p0\\localcache\\local-packages\\python310\\site-packages (from openpifpaf) (9.1.0)\n",
            "Requirement already satisfied: torch==1.13.1 in c:\\users\\osour\\appdata\\local\\packages\\pythonsoftwarefoundation.python.3.10_qbz5n2kfra8p0\\localcache\\local-packages\\python310\\site-packages (from openpifpaf) (1.13.1)\n",
            "Requirement already satisfied: typing-extensions in c:\\users\\osour\\appdata\\local\\packages\\pythonsoftwarefoundation.python.3.10_qbz5n2kfra8p0\\localcache\\local-packages\\python310\\site-packages (from torch==1.13.1->openpifpaf) (4.5.0)\n",
            "Requirement already satisfied: requests in c:\\users\\osour\\appdata\\local\\packages\\pythonsoftwarefoundation.python.3.10_qbz5n2kfra8p0\\localcache\\local-packages\\python310\\site-packages (from torchvision==0.14.1->openpifpaf) (2.28.2)\n",
            "Requirement already satisfied: zipp>=0.5 in c:\\users\\osour\\appdata\\local\\packages\\pythonsoftwarefoundation.python.3.10_qbz5n2kfra8p0\\localcache\\local-packages\\python310\\site-packages (from importlib-metadata!=3.8.0->openpifpaf) (3.15.0)\n",
            "Requirement already satisfied: pytz>=2019.3 in c:\\users\\osour\\appdata\\local\\packages\\pythonsoftwarefoundation.python.3.10_qbz5n2kfra8p0\\localcache\\local-packages\\python310\\site-packages (from pysparkling->openpifpaf) (2022.2.1)\n",
            "Requirement already satisfied: python-dateutil>=2.8.0 in c:\\users\\osour\\appdata\\local\\packages\\pythonsoftwarefoundation.python.3.10_qbz5n2kfra8p0\\localcache\\local-packages\\python310\\site-packages (from pysparkling->openpifpaf) (2.8.2)\n",
            "Requirement already satisfied: six>=1.5 in c:\\users\\osour\\appdata\\local\\packages\\pythonsoftwarefoundation.python.3.10_qbz5n2kfra8p0\\localcache\\local-packages\\python310\\site-packages (from python-dateutil>=2.8.0->pysparkling->openpifpaf) (1.16.0)\n",
            "Requirement already satisfied: urllib3<1.27,>=1.21.1 in c:\\users\\osour\\appdata\\local\\packages\\pythonsoftwarefoundation.python.3.10_qbz5n2kfra8p0\\localcache\\local-packages\\python310\\site-packages (from requests->torchvision==0.14.1->openpifpaf) (1.26.15)\n",
            "Requirement already satisfied: idna<4,>=2.5 in c:\\users\\osour\\appdata\\local\\packages\\pythonsoftwarefoundation.python.3.10_qbz5n2kfra8p0\\localcache\\local-packages\\python310\\site-packages (from requests->torchvision==0.14.1->openpifpaf) (3.4)\n",
            "Requirement already satisfied: charset-normalizer<4,>=2 in c:\\users\\osour\\appdata\\local\\packages\\pythonsoftwarefoundation.python.3.10_qbz5n2kfra8p0\\localcache\\local-packages\\python310\\site-packages (from requests->torchvision==0.14.1->openpifpaf) (3.1.0)\n",
            "Requirement already satisfied: certifi>=2017.4.17 in c:\\users\\osour\\appdata\\local\\packages\\pythonsoftwarefoundation.python.3.10_qbz5n2kfra8p0\\localcache\\local-packages\\python310\\site-packages (from requests->torchvision==0.14.1->openpifpaf) (2022.12.7)\n"
          ]
        }
      ],
      "source": [
        "%matplotlib inline\n",
        "!pip3 install openpifpaf\n",
        "\n",
        "import openpifpaf\n",
        "import IPython\n",
        "from openpifpaf.transforms import Crop\n",
        "from PIL import Image\n",
        "import gdown\n",
        "import subprocess\n",
        "openpifpaf.show.Canvas.show = True"
      ]
    },
    {
      "cell_type": "code",
      "execution_count": 3,
      "metadata": {
        "colab": {
          "base_uri": "https://localhost:8080/"
        },
        "id": "6Y2-BLnTS5nl",
        "outputId": "3a4caab3-3f94-47f3-cb4c-ada267c196f8"
      },
      "outputs": [
        {
          "name": "stderr",
          "output_type": "stream",
          "text": [
            "Cloning into 'plugins'...\n"
          ]
        }
      ],
      "source": [
        "!git clone --branch sda https://github.com/jsilveira1409/CIVIL-459-Animal-Pose-Estimation.git plugins\n",
        "!mv plugins/openpifpaf_animalplugin/ openpifpaf_animalplugin\n",
        "from openpifpaf_animalplugin import AnimalPoseEstimation"
      ]
    },
    {
      "cell_type": "code",
      "execution_count": 13,
      "metadata": {
        "colab": {
          "base_uri": "https://localhost:8080/"
        },
        "id": "rZ666-NISkLF",
        "outputId": "f11b7614-494a-4449-9041-6bd27e0d2ae5"
      },
      "outputs": [
        {
          "name": "stderr",
          "output_type": "stream",
          "text": [
            "usage: gdown [-h] [-V] [-O OUTPUT] [-q] [--fuzzy] [--id] [--proxy PROXY]\n",
            "             [--speed SPEED] [--no-cookies] [--no-check-certificate]\n",
            "             [--continue] [--folder] [--remaining-ok] [--format FORMAT]\n",
            "             url_or_id\n",
            "gdown: error: unrecognized arguments: data-animalpose\n",
            "unzip:  cannot find or open data-animalpose/images.zip, data-animalpose/images.zip.zip or data-animalpose/images.zip.ZIP.\n",
            "rm: cannot remove 'data-animalpose/images.zip': No such file or directory\n"
          ]
        }
      ],
      "source": [
        "!rm -rf data-animalpose/\n",
        "!mkdir data-animalpose\n",
        "!gdown \"https://drive.google.com/drive/folders/1xxm6ZjfsDSmv6C9JvbgiGrmHktrUjV5x\" -O data-animalpose --folder \n",
        "#!mv animalpose_keypoint_new/ data-animalpose/\n",
        "!unzip data-animalpose/images.zip -d data-animalpose/\n",
        "!rm data-animalpose/images.zip"
      ]
    },
    {
      "cell_type": "code",
      "execution_count": 5,
      "metadata": {
        "colab": {
          "base_uri": "https://localhost:8080/"
        },
        "id": "YcdkqDzFSkLF",
        "outputId": "38d1e43b-6fed-47f2-a178-9f6be3e0abbb"
      },
      "outputs": [
        {
          "data": {
            "text/plain": [
              "{'animal': openpifpaf.plugins.animalpose.animal_kp.AnimalKp,\n",
              " 'apollo': openpifpaf.plugins.apollocar3d.apollo_kp.ApolloKp,\n",
              " 'cifar10': openpifpaf.plugins.cifar10.datamodule.Cifar10,\n",
              " 'cocodet': openpifpaf.plugins.coco.cocodet.CocoDet,\n",
              " 'cocokp': openpifpaf.plugins.coco.cocokp.CocoKp,\n",
              " 'crowdpose': openpifpaf.plugins.crowdpose.module.CrowdPose,\n",
              " 'nuscenes': openpifpaf.plugins.nuscenes.nuscenes.NuScenes,\n",
              " 'posetrack2018': openpifpaf.plugins.posetrack.posetrack2018.Posetrack2018,\n",
              " 'posetrack2017': openpifpaf.plugins.posetrack.posetrack2017.Posetrack2017,\n",
              " 'cocokpst': openpifpaf.plugins.posetrack.cocokpst.CocoKpSt,\n",
              " 'wholebody': openpifpaf.plugins.wholebody.wholebody.Wholebody,\n",
              " 'custom_animal': openpifpaf_animalplugin.dataset.AnimalPoseEstimation}"
            ]
          },
          "execution_count": 5,
          "metadata": {},
          "output_type": "execute_result"
        }
      ],
      "source": [
        "config = openpifpaf.plugin.register()\n",
        "openpifpaf.DATAMODULES"
      ]
    },
    {
      "cell_type": "code",
      "execution_count": 10,
      "metadata": {
        "id": "Qsz4X-tfSkLF"
      },
      "outputs": [
        {
          "ename": "FileNotFoundError",
          "evalue": "[Errno 2] No such file or directory: 'data-animalpose/keypoints.json'",
          "output_type": "error",
          "traceback": [
            "\u001b[1;31m---------------------------------------------------------------------------\u001b[0m",
            "\u001b[1;31mFileNotFoundError\u001b[0m                         Traceback (most recent call last)",
            "\u001b[1;32mc:\\Users\\osour\\OneDrive - epfl.ch\\EPFL\\MA2\\CIVIL-459 Deep Learning For Autonomous Vehicles\\CIVIL-459-Animal-Pose-Estimation\\openpifpaf.ipynb Cell 6\u001b[0m in \u001b[0;36m2\n\u001b[0;32m      <a href='vscode-notebook-cell:/c%3A/Users/osour/OneDrive%20-%20epfl.ch/EPFL/MA2/CIVIL-459%20Deep%20Learning%20For%20Autonomous%20Vehicles/CIVIL-459-Animal-Pose-Estimation/openpifpaf.ipynb#X20sZmlsZQ%3D%3D?line=0'>1</a>\u001b[0m \u001b[39m# create a dataset\u001b[39;00m\n\u001b[1;32m----> <a href='vscode-notebook-cell:/c%3A/Users/osour/OneDrive%20-%20epfl.ch/EPFL/MA2/CIVIL-459%20Deep%20Learning%20For%20Autonomous%20Vehicles/CIVIL-459-Animal-Pose-Estimation/openpifpaf.ipynb#X20sZmlsZQ%3D%3D?line=1'>2</a>\u001b[0m dataset \u001b[39m=\u001b[39m AnimalPoseEstimation(image_dir\u001b[39m=\u001b[39;49m\u001b[39m'\u001b[39;49m\u001b[39mdata-animalpose/images\u001b[39;49m\u001b[39m'\u001b[39;49m, annotation_file\u001b[39m=\u001b[39;49m\u001b[39m'\u001b[39;49m\u001b[39mdata-animalpose/keypoints.json\u001b[39;49m\u001b[39m'\u001b[39;49m)\n",
            "File \u001b[1;32mc:\\Users\\osour\\OneDrive - epfl.ch\\EPFL\\MA2\\CIVIL-459 Deep Learning For Autonomous Vehicles\\CIVIL-459-Animal-Pose-Estimation\\openpifpaf_animalplugin\\dataset.py:44\u001b[0m, in \u001b[0;36mAnimalPoseEstimation.__init__\u001b[1;34m(self, image_dir, annotation_file, preprocess)\u001b[0m\n\u001b[0;32m     41\u001b[0m \u001b[39m# load json file\u001b[39;00m\n\u001b[0;32m     42\u001b[0m \u001b[39m#self.annotation = json.load(open(annotation_file))\u001b[39;00m\n\u001b[0;32m     43\u001b[0m \u001b[39mself\u001b[39m\u001b[39m.\u001b[39mannotation_file \u001b[39m=\u001b[39m annotation_file\n\u001b[1;32m---> 44\u001b[0m \u001b[39mself\u001b[39m\u001b[39m.\u001b[39mannotation \u001b[39m=\u001b[39m json\u001b[39m.\u001b[39mload(\u001b[39mopen\u001b[39;49m(annotation_file))\n\u001b[0;32m     45\u001b[0m \u001b[39mself\u001b[39m\u001b[39m.\u001b[39mimage_dir \u001b[39m=\u001b[39m image_dir\n\u001b[0;32m     46\u001b[0m \u001b[39mself\u001b[39m\u001b[39m.\u001b[39mpreprocess \u001b[39m=\u001b[39m preprocess\n",
            "\u001b[1;31mFileNotFoundError\u001b[0m: [Errno 2] No such file or directory: 'data-animalpose/keypoints.json'"
          ]
        }
      ],
      "source": [
        "# create a dataset\n",
        "dataset = AnimalPoseEstimation(image_dir='data-animalpose/images', annotation_file='data-animalpose/keypoints.json')"
      ]
    },
    {
      "cell_type": "code",
      "execution_count": 11,
      "metadata": {
        "colab": {
          "base_uri": "https://localhost:8080/"
        },
        "id": "UW6CLTFhSkLF",
        "outputId": "8a3a5707-7a52-417d-cd89-a40634c69d5c"
      },
      "outputs": [
        {
          "name": "stdout",
          "output_type": "stream",
          "text": [
            "INFO:__main__:neural network device: cpu (CUDA available: False, count: 0)\n"
          ]
        },
        {
          "name": "stderr",
          "output_type": "stream",
          "text": [
            "Traceback (most recent call last):\n",
            "  File \"C:\\Program Files\\WindowsApps\\PythonSoftwareFoundation.Python.3.10_3.10.3056.0_x64__qbz5n2kfra8p0\\lib\\runpy.py\", line 196, in _run_module_as_main\n",
            "    return _run_code(code, main_globals, None,\n",
            "  File \"C:\\Program Files\\WindowsApps\\PythonSoftwareFoundation.Python.3.10_3.10.3056.0_x64__qbz5n2kfra8p0\\lib\\runpy.py\", line 86, in _run_code\n",
            "    exec(code, run_globals)\n",
            "  File \"C:\\Users\\osour\\AppData\\Local\\Packages\\PythonSoftwareFoundation.Python.3.10_qbz5n2kfra8p0\\LocalCache\\local-packages\\Python310\\site-packages\\openpifpaf\\train.py\", line 196, in <module>\n",
            "    main()\n",
            "  File \"C:\\Users\\osour\\AppData\\Local\\Packages\\PythonSoftwareFoundation.Python.3.10_qbz5n2kfra8p0\\LocalCache\\local-packages\\Python310\\site-packages\\openpifpaf\\train.py\", line 128, in main\n",
            "    args = cli()\n",
            "  File \"C:\\Users\\osour\\AppData\\Local\\Packages\\PythonSoftwareFoundation.Python.3.10_qbz5n2kfra8p0\\LocalCache\\local-packages\\Python310\\site-packages\\openpifpaf\\train.py\", line 120, in cli\n",
            "    datasets.configure(args)\n",
            "  File \"C:\\Users\\osour\\AppData\\Local\\Packages\\PythonSoftwareFoundation.Python.3.10_qbz5n2kfra8p0\\LocalCache\\local-packages\\Python310\\site-packages\\openpifpaf\\datasets\\factory.py\", line 40, in configure\n",
            "    dm.configure(args)\n",
            "  File \"c:\\Users\\osour\\OneDrive - epfl.ch\\EPFL\\MA2\\CIVIL-459 Deep Learning For Autonomous Vehicles\\CIVIL-459-Animal-Pose-Estimation\\openpifpaf_animalplugin\\dataset.py\", line 73, in configure\n",
            "    return cls(args.animalpose_image_dir, args.animalpose_annotation_file)\n",
            "  File \"c:\\Users\\osour\\OneDrive - epfl.ch\\EPFL\\MA2\\CIVIL-459 Deep Learning For Autonomous Vehicles\\CIVIL-459-Animal-Pose-Estimation\\openpifpaf_animalplugin\\dataset.py\", line 44, in __init__\n",
            "    self.annotation = json.load(open(annotation_file))\n",
            "FileNotFoundError: [Errno 2] No such file or directory: 'data-animalpose/keypoints.json'\n"
          ]
        }
      ],
      "source": [
        "!python3 -m openpifpaf.train \\\n",
        "    --dataset custom_animal \\\n",
        "    --basenet=shufflenetv2k16 \\\n",
        "    --lr=0.00002 \\\n",
        "    --momentum=0.95 \\\n",
        "    --epochs=300 \\\n",
        "    --lr-decay 160 260 \\\n",
        "    --lr-decay-epochs=10  \\\n",
        "    --weight-decay=1e-5 \\\n",
        "    --weight-decay=1e-5 \\\n",
        "    --val-interval 10 \\\n",
        "    --loader-workers 16 \\\n",
        "    --batch-size 8"
      ]
    }
  ],
  "metadata": {
    "colab": {
      "include_colab_link": true,
      "provenance": []
    },
    "kernelspec": {
      "display_name": "Python 3",
      "language": "python",
      "name": "python3"
    },
    "language_info": {
      "codemirror_mode": {
        "name": "ipython",
        "version": 3
      },
      "file_extension": ".py",
      "mimetype": "text/x-python",
      "name": "python",
      "nbconvert_exporter": "python",
      "pygments_lexer": "ipython3",
      "version": "3.10.11"
    },
    "orig_nbformat": 4
  },
  "nbformat": 4,
  "nbformat_minor": 0
}
