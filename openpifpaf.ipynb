{
  "cells": [
    {
      "cell_type": "markdown",
      "metadata": {
        "colab_type": "text",
        "id": "view-in-github"
      },
      "source": [
        "<a href=\"https://colab.research.google.com/github/jsilveira1409/CIVIL-459-Animal-Pose-Estimation/blob/sda-dev/openpifpaf.ipynb\" target=\"_parent\"><img src=\"https://colab.research.google.com/assets/colab-badge.svg\" alt=\"Open In Colab\"/></a>"
      ]
    },
    {
      "cell_type": "code",
      "execution_count": null,
      "metadata": {
        "colab": {
          "base_uri": "https://localhost:8080/",
          "height": 1000
        },
        "id": "4C6Q3KObSkLC",
        "outputId": "5217bf20-dbff-4ff3-ce45-e6a055f342bb"
      },
      "outputs": [],
      "source": [
        "%matplotlib inline\n",
        "import sys\n",
        "import openpifpaf\n",
        "import IPython\n",
        "from openpifpaf.transforms import Crop\n",
        "from openpifpaf.plugins.animalpose import AnimalKp\n",
        "from PIL import Image\n",
        "import gdown\n",
        "import subprocess\n",
        "openpifpaf.show.Canvas.show = True\n",
        "import numpy as np\n",
        "from PIL import Image\n",
        "import matplotlib.pyplot as plt\n",
        "from openpifpaf_animalplugin import AnimalPoseEstimation\n",
        "from openpifpaf_sdaplugin import SDA\n",
        "import coco_adapt as coco_adapt"
      ]
    },
    {
      "cell_type": "markdown",
      "metadata": {
        "id": "mNQyd4GCPGqb"
      },
      "source": [
        "# Dataset download and manipulation"
      ]
    },
    {
      "cell_type": "code",
      "execution_count": null,
      "metadata": {
        "colab": {
          "base_uri": "https://localhost:8080/"
        },
        "id": "6Y2-BLnTS5nl",
        "outputId": "69ec5720-59ed-4b1d-95e6-94e49cc96731"
      },
      "outputs": [],
      "source": [
        "if 'google.colab' in sys.modules:\n",
        "    !rm -rf plugins\n",
        "    !rm -rf openpifpaf_animalplugin\n",
        "    !git clone --branch sda-dev https://github.com/jsilveira1409/CIVIL-459-Animal-Pose-Estimation.git plugins\n",
        "    !mv plugins/openpifpaf_animalplugin/ openpifpaf_animalplugin\n",
        "    !mv plugins/coco_adapt.py coco_adapt.py\n",
        "\n",
        "coco_adapt.download_dataset()\n",
        "coco_adapt.adapt_to_coco()\n",
        "coco_adapt.split_data()\n",
        "\n",
        "from openpifpaf_animalplugin import AnimalPoseEstimation\n",
        "from openpifpaf_sdaplugin import SDA\n",
        "config = openpifpaf.plugin.register()\n",
        "openpifpaf.DATAMODULES"
      ]
    },
    {
      "attachments": {},
      "cell_type": "markdown",
      "metadata": {},
      "source": [
        "# Native Animal Pose Estimation Plugin"
      ]
    },
    {
      "cell_type": "code",
      "execution_count": null,
      "metadata": {},
      "outputs": [],
      "source": [
        "dataset = AnimalKp()\n",
        "dataset.batch_size =1\n",
        "dataloader = dataset.train_loader()"
      ]
    },
    {
      "attachments": {},
      "cell_type": "markdown",
      "metadata": {},
      "source": [
        "## Train"
      ]
    },
    {
      "cell_type": "code",
      "execution_count": null,
      "metadata": {},
      "outputs": [],
      "source": [
        "cmd = \"python3 -m openpifpaf.train \\\n",
        "  --lr=0.0003 \\\n",
        "  --momentum=0.95 \\\n",
        "  --clip-grad-value=10.0\\\n",
        "  --b-scale=10.0 \\\n",
        "  --batch-size=16 \\\n",
        "  --loader-workers=12 \\\n",
        "  --epochs=350 \\\n",
        "  --lr-decay 310 330 \\\n",
        "  --lr-decay-epochs=10 \\\n",
        "  --val-interval 5 \\\n",
        "  --checkpoint=shufflenetv2k30 \\\n",
        "  --lr-warm-up-start-epoch=200 \\\n",
        "  --dataset=animal \\\n",
        "  --animal-square-edge=385 \\\n",
        "  --animal-upsample=2 \\\n",
        "  --animal-bmin=2 --animal-extended-scale \\\n",
        "  --weight-decay=1e-5\"\n",
        "\n",
        "subprocess.call(cmd, shell=True)"
      ]
    },
    {
      "attachments": {},
      "cell_type": "markdown",
      "metadata": {},
      "source": [
        "## Eval"
      ]
    },
    {
      "cell_type": "code",
      "execution_count": null,
      "metadata": {},
      "outputs": [],
      "source": [
        "cmd = \"python3 -m openpifpaf.eval \\\n",
        "    --dataset=animal \\\n",
        "    --checkpoint=shufflenetv2k30-animalpose \\\n",
        "    --batch-size=1 \\\n",
        "    --skip-existing \\\n",
        "    --loader-workers=8 \\\n",
        "    --force-complete-pose \\\n",
        "    --seed-threshold=0.01 --instance-threshold=0.01\"\n",
        "\n",
        "subprocess.call(cmd, shell=True)"
      ]
    },
    {
      "attachments": {},
      "cell_type": "markdown",
      "metadata": {
        "id": "fyGh5iBePGqc"
      },
      "source": [
        "# Custom Animal Pose Estimation Dataset and Plugin"
      ]
    },
    {
      "cell_type": "code",
      "execution_count": null,
      "metadata": {
        "id": "JRM-bJlYPGqd"
      },
      "outputs": [],
      "source": [
        "dataset = AnimalPoseEstimation()\n",
        "dataloader = dataset.train_loader()"
      ]
    },
    {
      "cell_type": "markdown",
      "metadata": {
        "id": "Z1LgcVosPGqd"
      },
      "source": [
        "# Semantic Data Augmentation"
      ]
    },
    {
      "cell_type": "code",
      "execution_count": null,
      "metadata": {
        "id": "Bp-lTfEKPGqd",
        "outputId": "95764cf9-1402-4cf7-ae66-aaf223563867"
      },
      "outputs": [],
      "source": [
        "sda = SDA(output_dir='data-animalpose/sda')\n",
        "sda(dataset[0][0], dataset[0][1])"
      ]
    },
    {
      "cell_type": "markdown",
      "metadata": {
        "id": "zfieShnUPGqd"
      },
      "source": [
        "# Training"
      ]
    },
    {
      "cell_type": "code",
      "execution_count": null,
      "metadata": {
        "colab": {
          "base_uri": "https://localhost:8080/"
        },
        "id": "UW6CLTFhSkLF",
        "outputId": "7c482f98-2879-44d4-ff3c-e7b9529ff308"
      },
      "outputs": [],
      "source": [
        "!python3 -m openpifpaf.train \\\n",
        "    --dataset custom_animal \\\n",
        "    --basenet=shufflenetv2k30 \\\n",
        "    --lr=0.00002 \\\n",
        "    --momentum=0.95 \\\n",
        "    --epochs=50 \\\n",
        "    --lr-decay 160 260 \\\n",
        "    --lr-decay-epochs=10  \\\n",
        "    --weight-decay=1e-5 \\\n",
        "    --weight-decay=1e-5 \\\n",
        "    --val-interval 10 \\\n",
        "    --loader-workers 2 \\\n",
        "    --batch-size 5"
      ]
    },
    {
      "attachments": {},
      "cell_type": "markdown",
      "metadata": {},
      "source": [
        "# Save Results"
      ]
    },
    {
      "cell_type": "code",
      "execution_count": null,
      "metadata": {
        "id": "dPqW8AXHQvkZ"
      },
      "outputs": [],
      "source": [
        "import zipfile\n",
        "from google.colab import drive, files\n",
        "import os\n",
        "\n",
        "# create a zip file of the folder you want to save\n",
        "folder_path = '/outputs'\n",
        "zip_path = '/content/myfolder.zip'\n",
        "with zipfile.ZipFile(zip_path, 'w', zipfile.ZIP_DEFLATED) as zipf:\n",
        "    for root, dirs, files in os.walk(folder_path):\n",
        "        for file in files:\n",
        "            zipf.write(os.path.join(root, file))\n",
        "\n",
        "# save the zip file to your Google Drive\n",
        "drive_path = '/content/drive/My Drive/myfolder.zip'\n",
        "!cp '{zip_path}' '{drive_path}'"
      ]
    }
  ],
  "metadata": {
    "accelerator": "GPU",
    "colab": {
      "gpuType": "V100",
      "include_colab_link": true,
      "machine_shape": "hm",
      "provenance": []
    },
    "gpuClass": "standard",
    "kernelspec": {
      "display_name": "Python 3",
      "language": "python",
      "name": "python3"
    },
    "language_info": {
      "codemirror_mode": {
        "name": "ipython",
        "version": 3
      },
      "file_extension": ".py",
      "mimetype": "text/x-python",
      "name": "python",
      "nbconvert_exporter": "python",
      "pygments_lexer": "ipython3",
      "version": "3.10.11"
    },
    "orig_nbformat": 4
  },
  "nbformat": 4,
  "nbformat_minor": 0
}
